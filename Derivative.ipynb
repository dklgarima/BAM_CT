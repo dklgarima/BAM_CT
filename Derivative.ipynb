{
 "cells": [
  {
   "cell_type": "code",
   "execution_count": 96,
   "metadata": {},
   "outputs": [],
   "source": [
    "from reconstruct import * \n",
    "from projection_import import * \n",
    "import matplotlib.pyplot as plt\n",
    "import pandas as pd\n",
    "import numpy as np\n",
    "from PIL import Image\n",
    "import imageio\n",
    "from scipy.ndimage import median_filter, uniform_filter\n",
    "import re"
   ]
  },
  {
   "cell_type": "code",
   "execution_count": 97,
   "metadata": {},
   "outputs": [
    {
     "name": "stdout",
     "output_type": "stream",
     "text": [
      "volume opened successfully : data shape:  (2583, 2160, 2560)\n"
     ]
    }
   ],
   "source": [
    "# Specify the path to the HDF5 file\n",
    "file_path = r\"C:\\Users\\gdhakal\\Documents\\Git\\Automatic_COR_finder\\Si100_operando\\6_230606_1426_Si100_operando_tomo___Z40_Y6315_20000eV_10x_400ms\\6_230606_1426_00001.h5\"\n",
    "\n",
    "# Specify the folder to save and load the TIFF files\n",
    "tiff_folder = r\"C:\\Users\\gdhakal\\Documents\\Git\\Automatic_COR_finder\\Experiment Notebooks\\Tiffs\\Si100_6\\overall\"\n",
    "\n",
    "# Create an instance of ProjectionFile\n",
    "FileObject = ProjectionFile(file_path)\n",
    "\n",
    "# Open the HDF5 file and retrieve the volume and metadata\n",
    "volume_path = \"/entry/data/data\"\n",
    "metadata_paths = ['/entry/instrument/NDAttributes/CT_MICOS_W']\n",
    "\n",
    "volume, metadata = FileObject.openFile(volume=volume_path, metadata=metadata_paths)"
   ]
  },
  {
   "cell_type": "markdown",
   "metadata": {},
   "source": [
    "### Reconstructing One Slice with Multiple Looped COR"
   ]
  },
  {
   "cell_type": "code",
   "execution_count": 98,
   "metadata": {},
   "outputs": [],
   "source": [
    "#Assigning reco_setting values\n",
    "reco_setting = {\n",
    "    'angle_list_dir': '/entry/instrument/NDAttributes/CT_MICOS_W',\n",
    "    'number_of_FFs': 20,\n",
    "    'slice_number': 1000,\n",
    "    'DarkFieldValue': 200,\n",
    "    'backIlluminationValue': 0,\n",
    "    'offset_Angle': 0,\n",
    "    'angle_range': '180 - axis centered',\n",
    "    'extend_FOV_fixed_ImageJ_Stream': 0.25,\n",
    "    'reco_algorithm': 'gridrec',\n",
    "    'filter_name': 'shepp',\n",
    "    'pixel_size': 0.72,\n",
    "    'ring_radius': 50\n",
    "    }"
   ]
  },
  {
   "cell_type": "code",
   "execution_count": null,
   "metadata": {},
   "outputs": [],
   "source": [
    "import numpy as np\n",
    "import matplotlib.pyplot as plt\n",
    "\n",
    "# Set the random seed for reproducibility\n",
    "np.random.seed(52)\n",
    "\n",
    "# Specify the range and number of random values\n",
    "mean_value = 1216\n",
    "min_value = 1000\n",
    "max_value = 1500\n",
    "num_values = 100\n",
    "\n",
    "# Generate random COR values from a normal distribution\n",
    "random_cor_values = np.random.normal(loc=mean_value, scale=100, size=num_values)\n",
    "random_cor_values = np.clip(random_cor_values, min_value, max_value)  # Clip values to the specified range\n",
    "\n",
    "        # Instantiate the Reconstruction object\n",
    "recoObject = Reconstruction(FileObject, gpu=True)\n",
    "        # Set the COR value in the reconstruction settings\n",
    "reco_setting[\"COR\"] = random_cor_values\n",
    "\n",
    "        # Generate the Slice using the reco_settings\n",
    "slice = recoObject.on_the_fly_one_slice(reco_setting)\n",
    "\n",
    "        # Specify the intensity range\n",
    "min_intensity = -100\n",
    "max_intensity = 100\n",
    "\n",
    "        # Clip the image intensities within the desired range\n",
    "clipped_image = np.clip(slice, min_intensity, max_intensity)\n",
    "\n",
    "        # Scale the intensities to the range [0, 255]\n",
    "scaled_image = ((clipped_image - min_intensity) / (max_intensity - min_intensity) * 255).astype(np.uint8)\n",
    "\n",
    "str_cor_value = str(random_cor_values).replace ('.' , 'p' )\n",
    "\n",
    "        # Save the reconstructed slice\n",
    "save_file_name = f\"reconstructed_cor{str_cor_value}.tif\"\n",
    "        # np.save(save_file_name, slice)\n",
    "\n",
    "        # Save the scaled image as a TIFF file\n",
    "imageio.imwrite(os.path.join(tiff_folder, save_file_name), scaled_image)\n",
    "\n",
    "print(\"Reconstructed slice saved successfully as\", save_file_name)    "
   ]
  },
  {
   "cell_type": "code",
   "execution_count": null,
   "metadata": {},
   "outputs": [],
   "source": [
    "# Function to read and give COR, e, and n of a file\n",
    "def parse_reconstructed_filename(filename):\n",
    "    # Extract COR, e, and n values from the filename using regular expressions\n",
    "   # match = re.search(r\"reconstructed_e(\\d+)_n(\\d+)_cor(\\d+p\\d+)\\.tif\", filename)\n",
    "    match = re.search(r\"reconstructed_cor(\\d+p\\d+)\\.tif|reconstructed_cor(\\d+)\\.tif\", filename)\n",
    "    \n",
    "    if match:\n",
    "        if match.group(3):\n",
    "            e1 = int(match.group(1))\n",
    "            n1 = int(match.group(2))\n",
    "            cor = float(match.group(3).replace(\"p\", \".\"))\n",
    "        else:\n",
    "            e1 = int(match.group(4))\n",
    "            n1 = int(match.group(5))\n",
    "            cor = float(match.group(6))\n",
    "\n",
    "        return cor, e1, n1\n",
    "    \n",
    "    return None\n",
    "\n",
    "# Initialize arrays to store COR, e, and n values\n",
    "cor_file = []\n",
    "e_file = []\n",
    "n_file = []\n",
    "path = []\n",
    "fname = []\n",
    "\n",
    "# Iterate over the TIFF files in the directory\n",
    "for filename in os.listdir(tiff_folder):\n",
    "    if filename.endswith(\".tif\"):\n",
    "        # Get the full file path\n",
    "        filepath = os.path.join(tiff_folder, filename)\n",
    "        \n",
    "        # Parse the COR, e, and n values from the filename\n",
    "        result = parse_reconstructed_filename(filename)\n",
    "        \n",
    "        if result:\n",
    "            cor, e1, n1 = result\n",
    "            # Append the values to the respective arrays\n",
    "            cor_file.append(cor)\n",
    "            e_file.append(e1)\n",
    "            n_file.append(n1)\n",
    "            path.append(filepath)\n",
    "            fname.append(filename)\n",
    "\n",
    "# Print the arrays\n",
    "df_description = pd.DataFrame({\"path\": path, \"filename\": fname, \"COR\": cor_file})\n"
   ]
  },
  {
   "cell_type": "code",
   "execution_count": null,
   "metadata": {},
   "outputs": [],
   "source": [
    "# Create a histogram to visualize the distribution of random COR values\n",
    "plt.figure(figsize=(10, 6))\n",
    "plt.hist(random_cor_values, bins=20, edgecolor='black', alpha=0.5)\n",
    "plt.xlabel('COR Values')\n",
    "plt.ylabel('Frequency')\n",
    "plt.title('Histogram of Random COR Values')\n",
    "plt.grid(True)\n",
    "plt.show()"
   ]
  },
  {
   "cell_type": "code",
   "execution_count": null,
   "metadata": {},
   "outputs": [],
   "source": [
    "# Function to calculate standard deviation\n",
    "def calculate_std(path):\n",
    "    image = Image.open(path)  # Read the image based on the filename\n",
    "    image_array = np.array(image)\n",
    "    std = np.std(image_array)\n",
    "    return std\n",
    "\n",
    "# Apply the function to calculate standard deviation for each file\n",
    "df_description['std_dev'] = df_description['path'].apply(calculate_std)"
   ]
  },
  {
   "cell_type": "code",
   "execution_count": null,
   "metadata": {},
   "outputs": [],
   "source": [
    "plt.scatter(df_description[\"COR\"],df_description[\"std_dev\"])\n",
    "plt.xlabel('COR Values')\n",
    "plt.ylabel('Standard Deviation')\n",
    "plt.title('COR vs. Standard Deviation')\n",
    "plt.grid(True)\n",
    "plt.show()"
   ]
  },
  {
   "cell_type": "code",
   "execution_count": 17,
   "metadata": {},
   "outputs": [
    {
     "data": {
      "text/plain": [
       "[<matplotlib.lines.Line2D at 0x1edfb5634f0>]"
      ]
     },
     "execution_count": 17,
     "metadata": {},
     "output_type": "execute_result"
    },
    {
     "data": {
      "image/png": "[encoded data removed]",
      "text/plain": [
       "<Figure size 640x480 with 1 Axes>"
      ]
     },
     "metadata": {},
     "output_type": "display_data"
    }
   ],
   "source": [
    "plt.plot(  random_cor_values , [1 for i in range(len(random_cor_values))]\n",
    "         , 'o')"
   ]
  },
  {
   "cell_type": "code",
   "execution_count": 115,
   "metadata": {},
   "outputs": [],
   "source": [
    "# Function to read and give COR, e, and n of a file\n",
    "def parse_reconstructed_filename(filename):\n",
    "    # Extract COR, e, and n values from the filename using regular expressions\n",
    "   # match = re.search(r\"reconstructed_e(\\d+)_n(\\d+)_cor(\\d+p\\d+)\\.tif\", filename)\n",
    "    match = re.search(r\"reconstructed_e(\\d+)_n(\\d+)_cor(\\d+p\\d+)\\.tif|reconstructed_e(\\d+)_n(\\d+)_cor(\\d+)\\.tif\", filename)\n",
    "    \n",
    "    if match:\n",
    "        if match.group(3):\n",
    "            e1 = int(match.group(1))\n",
    "            n1 = int(match.group(2))\n",
    "            cor = float(match.group(3).replace(\"p\", \".\"))\n",
    "        else:\n",
    "            e1 = int(match.group(4))\n",
    "            n1 = int(match.group(5))\n",
    "            cor = float(match.group(6))\n",
    "\n",
    "        return cor, e1, n1\n",
    "    \n",
    "    return None\n",
    "\n",
    "# Initialize arrays to store COR, e, and n values\n",
    "cor_file = []\n",
    "e_file = []\n",
    "n_file = []\n",
    "path = []\n",
    "fname = []\n",
    "\n",
    "# Iterate over the TIFF files in the directory\n",
    "for filename in os.listdir(tiff_folder):\n",
    "    if filename.endswith(\".tif\"):\n",
    "        # Get the full file path\n",
    "        filepath = os.path.join(tiff_folder, filename)\n",
    "        \n",
    "        # Parse the COR, e, and n values from the filename\n",
    "        result = parse_reconstructed_filename(filename)\n",
    "        \n",
    "        if result:\n",
    "            cor, e1, n1 = result\n",
    "            # Append the values to the respective arrays\n",
    "            cor_file.append(cor)\n",
    "            e_file.append(e1)\n",
    "            n_file.append(n1)\n",
    "            path.append(filepath)\n",
    "            fname.append(filename)\n",
    "\n",
    "# Print the arrays\n",
    "df_description = pd.DataFrame({\"path\": path, \"filename\": fname, \"COR\": cor_file, \"e\": e_file, \"n\": n_file})\n"
   ]
  },
  {
   "cell_type": "code",
   "execution_count": 111,
   "metadata": {},
   "outputs": [
    {
     "data": {
      "text/plain": [
       "0     1112.5\n",
       "1     1122.5\n",
       "2     1132.5\n",
       "3     1142.5\n",
       "4     1152.5\n",
       "5     1162.5\n",
       "6     1172.5\n",
       "7     1182.5\n",
       "8     1192.5\n",
       "9     1202.5\n",
       "10    1212.5\n",
       "11    1222.5\n",
       "12    1232.5\n",
       "13    1242.5\n",
       "14    1252.5\n",
       "15    1262.5\n",
       "16    1272.5\n",
       "17    1282.5\n",
       "18    1292.5\n",
       "19    1302.5\n",
       "20    1312.5\n",
       "21    1202.5\n",
       "22    1203.5\n",
       "23    1204.5\n",
       "24    1205.5\n",
       "25    1206.5\n",
       "26    1207.5\n",
       "27    1208.5\n",
       "28    1209.5\n",
       "29    1210.5\n",
       "30    1211.5\n",
       "31    1212.5\n",
       "32    1213.5\n",
       "33    1214.5\n",
       "34    1215.5\n",
       "35    1216.5\n",
       "36    1217.5\n",
       "37    1218.5\n",
       "38    1219.5\n",
       "39    1220.5\n",
       "40    1221.5\n",
       "41    1222.5\n",
       "Name: COR, dtype: float64"
      ]
     },
     "execution_count": 111,
     "metadata": {},
     "output_type": "execute_result"
    }
   ],
   "source": [
    "df_description[\"COR\"]"
   ]
  },
  {
   "cell_type": "markdown",
   "metadata": {},
   "source": [
    "### Experiment One - Finding Standard Deviation and Plotting It\n",
    "#### Overall Standard Deviation"
   ]
  },
  {
   "cell_type": "code",
   "execution_count": 116,
   "metadata": {},
   "outputs": [],
   "source": [
    "# Function to calculate standard deviation\n",
    "def calculate_std(path):\n",
    "    image = Image.open(path)  # Read the image based on the filename\n",
    "    image_array = np.array(image)\n",
    "    std = np.std(image_array)\n",
    "    return std\n",
    "\n",
    "# Apply the function to calculate standard deviation for each file\n",
    "df_description['std_dev'] = df_description['path'].apply(calculate_std)\n",
    "\n",
    "# Print the updated DataFrame\n",
    "#print(df_description)"
   ]
  },
  {
   "cell_type": "code",
   "execution_count": null,
   "metadata": {},
   "outputs": [],
   "source": [
    "plt.scatter(df_description[\"COR\"],df_description[\"std_dev\"])\n",
    "plt.xlabel('COR Values')\n",
    "plt.ylabel('Standard Deviation')\n",
    "plt.title('COR vs. Standard Deviation')\n",
    "plt.grid(True)\n",
    "plt.show()"
   ]
  },
  {
   "cell_type": "code",
   "execution_count": 118,
   "metadata": {},
   "outputs": [
    {
     "data": {
      "image/png": "[encoded data removed]",
      "text/plain": [
       "<Figure size 640x480 with 1 Axes>"
      ]
     },
     "metadata": {},
     "output_type": "display_data"
    }
   ],
   "source": [
    "plt.hist(df_description[\"COR\"])\n",
    "plt.xlabel('COR Values')\n",
    "plt.ylabel('Standard Deviation')\n",
    "plt.title('COR vs. Standard Deviation')\n",
    "plt.grid(True)\n",
    "plt.show()"
   ]
  },
  {
   "cell_type": "code",
   "execution_count": null,
   "metadata": {},
   "outputs": [],
   "source": [
    "# Find the file with the maximum standard deviation\n",
    "max_std_dev_row = df_description.loc[df_description[\"std_dev\"].idxmax()]\n",
    "\n",
    "# Access the filename and maximum standard deviation value\n",
    "largest_file = max_std_dev_row[\"filename\"]\n",
    "largest_std_dev = max_std_dev_row[\"std_dev\"]\n",
    "\n",
    "print(\"File with Maximum Standard Deviation:\", largest_file, \"With Deviation:\", largest_std_dev)"
   ]
  },
  {
   "cell_type": "code",
   "execution_count": null,
   "metadata": {},
   "outputs": [],
   "source": [
    "# df_description.drop(columns='midpoint')"
   ]
  },
  {
   "cell_type": "markdown",
   "metadata": {},
   "source": [
    "##### Mean Filter"
   ]
  },
  {
   "cell_type": "code",
   "execution_count": null,
   "metadata": {},
   "outputs": [],
   "source": [
    "# # Function to calculate mean filtered standard deviation\n",
    "# def calculate_mean_std(path):\n",
    "#     image = Image.open(path)  # Read the image based on the filename\n",
    "\n",
    "#     # Apply mean filter\n",
    "#     mean_filtered = uniform_filter(image, size=3) \n",
    "\n",
    "#     mean_image_array = np.array(mean_filtered)\n",
    "#     mean_std = np.std(mean_image_array)\n",
    "#     return mean_std\n",
    "\n",
    "# # Apply the function to calculate standard deviation for each file\n",
    "# df_description['mean_std_dev'] = df_description['path'].apply(calculate_mean_std)\n",
    "\n",
    "# # Print the updated DataFrame\n",
    "# #print(df_description)"
   ]
  },
  {
   "cell_type": "code",
   "execution_count": null,
   "metadata": {},
   "outputs": [],
   "source": [
    "# plt.scatter(df_description[\"COR\"],df_description[\"mean_std_dev\"])\n",
    "# plt.xlabel('COR Values')\n",
    "# plt.ylabel('Standard Deviation')\n",
    "# plt.title('COR vs. Mean Filtered Standard Deviation')\n",
    "# plt.grid(True)\n",
    "# plt.show()"
   ]
  },
  {
   "cell_type": "markdown",
   "metadata": {},
   "source": [
    "##### Median Filter"
   ]
  },
  {
   "cell_type": "code",
   "execution_count": null,
   "metadata": {},
   "outputs": [],
   "source": [
    "# # Function to calculate standard deviation\n",
    "# def calculate_median_std(path):\n",
    "#     image = Image.open(path)  # Read the image based on the filename\n",
    "\n",
    "#     # Apply median filter\n",
    "#     median_filtered = median_filter(image, size=3)\n",
    "\n",
    "#     image_array = np.array(median_filtered)\n",
    "#     median_std = np.std(image_array)\n",
    "#     return median_std\n",
    "\n",
    "# # Apply the function to calculate standard deviation for each file\n",
    "# df_description['median_std_dev'] = df_description['path'].apply(calculate_median_std)\n",
    "\n",
    "# # Print the updated DataFrame\n",
    "# #print(df_description)"
   ]
  },
  {
   "cell_type": "code",
   "execution_count": null,
   "metadata": {},
   "outputs": [],
   "source": [
    "# plt.scatter(df_description[\"COR\"],df_description[\"median_std_dev\"])\n",
    "# plt.xlabel('COR Values')\n",
    "# plt.ylabel('Standard Deviation')\n",
    "# plt.title('COR vs. Median Filtered Standard Deviation')\n",
    "# plt.grid(True)\n",
    "# plt.show()"
   ]
  },
  {
   "cell_type": "markdown",
   "metadata": {},
   "source": [
    "#### Cropped Standard Deviation"
   ]
  },
  {
   "cell_type": "code",
   "execution_count": null,
   "metadata": {},
   "outputs": [],
   "source": [
    "# # Function to calculate cropped standard deviation\n",
    "# def calculate_cropped_std(path):\n",
    "#     image = Image.open(path)  # Read the image based on the filename\n",
    "#     width, height = image.size\n",
    "#     left = (width - 200) // 2\n",
    "#     top = (height - 200) // 2\n",
    "#     right = left + 200\n",
    "#     bottom = top + 200\n",
    "#     cropped_image = image.crop((left, top, right, bottom))\n",
    "\n",
    "#     image_array = np.array(cropped_image)\n",
    "#     cropped_std = np.std(image_array)\n",
    "#     return cropped_std\n",
    "\n",
    "# # Apply the function to calculate standard deviation for each file\n",
    "# df_description['cropped_std_dev'] = df_description['path'].apply(calculate_cropped_std)\n",
    "\n",
    "# # Print the updated DataFrame\n",
    "# #print(df_description)"
   ]
  },
  {
   "cell_type": "code",
   "execution_count": null,
   "metadata": {},
   "outputs": [],
   "source": [
    "# plt.scatter(df_description[\"COR\"],df_description[\"cropped_std_dev\"])\n",
    "# plt.xlabel('COR Values')\n",
    "# plt.ylabel('Standard Deviation')\n",
    "# plt.title('COR vs. Cropped Standard Deviation')\n",
    "# plt.grid(True)\n",
    "# plt.show()"
   ]
  },
  {
   "cell_type": "markdown",
   "metadata": {},
   "source": [
    "##### Varience Filter"
   ]
  },
  {
   "cell_type": "code",
   "execution_count": null,
   "metadata": {},
   "outputs": [],
   "source": [
    "# # Function to calculate the variance of an image\n",
    "# def calculate_variance(image_path):\n",
    "#     image = Image.open(image_path)\n",
    "#     imarray = np.array(image)\n",
    "#     return np.var(imarray)\n",
    "\n",
    "# # Set the path to the folder containing the reconstructed TIFFs\n",
    "# reconstructed_folder = \"path/to/reconstructed_tiffs_folder\"\n",
    "\n",
    "# # Set the variance threshold\n",
    "# variance_threshold = 1000  # You can adjust this value as needed\n",
    "\n",
    "# # List to store the selected TIFF files\n",
    "# selected_tiffs = []\n",
    "\n",
    "# # Iterate over the TIFF files in the directory\n",
    "# for filename in os.listdir(reconstructed_folder):\n",
    "#     if filename.endswith(\".tif\"):\n",
    "#         # Get the full file path\n",
    "#         filepath = os.path.join(reconstructed_folder, filename)\n",
    "        \n",
    "#         # Calculate the variance of the image\n",
    "#         variance = calculate_variance(filepath)\n",
    "        \n",
    "#         # Check if the variance is above the threshold\n",
    "#         if variance > variance_threshold:\n",
    "#             selected_tiffs.append(filepath)"
   ]
  }
 ],
 "metadata": {
  "kernelspec": {
   "display_name": "CT4D",
   "language": "python",
   "name": "python3"
  },
  "language_info": {
   "codemirror_mode": {
    "name": "ipython",
    "version": 3
   },
   "file_extension": ".py",
   "mimetype": "text/x-python",
   "name": "python",
   "nbconvert_exporter": "python",
   "pygments_lexer": "ipython3",
   "version": "3.9.15"
  },
  "orig_nbformat": 4
 },
 "nbformat": 4,
 "nbformat_minor": 2
}
