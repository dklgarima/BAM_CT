{
 "cells": [
  {
   "cell_type": "code",
   "execution_count": 3,
   "metadata": {},
   "outputs": [],
   "source": [
    "from PIL import Image\n",
    "import numpy as np\n",
    "import os"
   ]
  },
  {
   "cell_type": "code",
   "execution_count": 8,
   "metadata": {},
   "outputs": [],
   "source": [
    "# Path to the folder containing the original 32-bit images\n",
    "input_folder = r\"C:\\Users\\gdhakal\\Documents\\Git\\Automatic_COR_finder\\Experiment Notebooks\\Tiffs\\Si100_7\\intensities\\32None\"\n",
    "\n",
    "# Path to the folder where the clipped 32-bit images will be saved\n",
    "output_folder = r\"C:\\Users\\gdhakal\\Documents\\Git\\Automatic_COR_finder\\Experiment Notebooks\\Tiffs\\Si100_7\\intensities\\8Bit_0_100\""
   ]
  },
  {
   "cell_type": "code",
   "execution_count": 5,
   "metadata": {},
   "outputs": [],
   "source": [
    "# Function to clip the image values to 0 and infinity\n",
    "def clip_image_values_32_Infinity(image_path, output_path):\n",
    "    # Load the image using PIL\n",
    "    image = Image.open(image_path)\n",
    "\n",
    "    # Convert the image to a NumPy array\n",
    "    image_array = np.array(image, dtype=np.float32)\n",
    "\n",
    "    # Clip the image values to 0 and infinity\n",
    "    clipped_image = np.clip(image_array, 0, np.inf)\n",
    "\n",
    "    # Convert the clipped image array back to 32-bit image\n",
    "    clipped_image = clipped_image.astype(np.float32)\n",
    "\n",
    "    # Save the clipped image as a 32-bit image\n",
    "    clipped_image_pil = Image.fromarray(clipped_image)\n",
    "    clipped_image_pil.save(output_path)"
   ]
  },
  {
   "cell_type": "code",
   "execution_count": 7,
   "metadata": {},
   "outputs": [],
   "source": [
    "# Function to clip the image values to the specified range and save as 8-bit integer image\n",
    "def clip_image_values_8_0to100(image_path, output_path):\n",
    "    # Load the image using PIL\n",
    "    image = Image.open(image_path)\n",
    "\n",
    "    # Convert the image to a NumPy array\n",
    "    image_array = np.array(image, dtype=np.uint8)\n",
    "\n",
    "    # Clip the image values to the specified range (0 to 100)\n",
    "    clipped_image = np.clip(image_array, 0, 100)\n",
    "\n",
    "    # Convert the clipped image array back to 8-bit integer image\n",
    "    clipped_image = clipped_image.astype(np.uint8)\n",
    "\n",
    "    # Save the clipped image as an 8-bit integer image\n",
    "    clipped_image_pil = Image.fromarray(clipped_image)\n",
    "    clipped_image_pil.save(output_path)\n"
   ]
  },
  {
   "cell_type": "code",
   "execution_count": 9,
   "metadata": {},
   "outputs": [],
   "source": [
    "# Loop through each image in the input folder\n",
    "for filename in os.listdir(input_folder):\n",
    "    if filename.endswith(\".tif\"):\n",
    "        # Get the full file path of the input image\n",
    "        input_image_path = os.path.join(input_folder, filename)\n",
    "\n",
    "        # Get the full file path of the output image\n",
    "        output_image_path = os.path.join(output_folder, filename)\n",
    "\n",
    "        # Clip the image values and save the clipped image\n",
    "        clip_image_values_8_0to100(input_image_path, output_image_path)"
   ]
  }
 ],
 "metadata": {
  "kernelspec": {
   "display_name": "CT4D",
   "language": "python",
   "name": "python3"
  },
  "language_info": {
   "codemirror_mode": {
    "name": "ipython",
    "version": 3
   },
   "file_extension": ".py",
   "mimetype": "text/x-python",
   "name": "python",
   "nbconvert_exporter": "python",
   "pygments_lexer": "ipython3",
   "version": "3.9.15"
  },
  "orig_nbformat": 4
 },
 "nbformat": 4,
 "nbformat_minor": 2
}
