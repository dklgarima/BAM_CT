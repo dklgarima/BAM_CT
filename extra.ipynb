{
 "cells": [
  {
   "cell_type": "code",
   "execution_count": null,
   "metadata": {},
   "outputs": [],
   "source": [
    "# Manually change the COR without function\n",
    "# Specify the path to the HDF5 file\n",
    "file_path = r\"C:\\Users\\gdhakal\\Documents\\Git\\Automatic_COR_finder\\C200\\2_230110_1200_C200_____Z90_Y6460_50000eV_2x_350ms\\2_230110_1200_00001.h5\"\n",
    "\n",
    "# Create an instance of ProjectionFile\n",
    "FileObject = ProjectionFile(file_path)\n",
    "\n",
    "# Open the HDF5 file and retrieve the volume and metadata\n",
    "volume_path = \"/entry/data/data\"\n",
    "metadata_paths = ['/entry/instrument/NDAttributes/CT_MICOS_W']\n",
    "\n",
    "volume, metadata = FileObject.openFile(volume=volume_path, metadata=metadata_paths)\n",
    "\n",
    "reco_setting = {\n",
    "    'angle_list_dir': '/entry/instrument/NDAttributes/CT_MICOS_W',\n",
    "    'number_of_FFs': 20,\n",
    "    'slice_number': 10,\n",
    "    'DarkFieldValue': 200,\n",
    "    'backIlluminationValue': 0,\n",
    "    'offset_Angle': 0,\n",
    "    'angle_range': '180 - axis centered',\n",
    "    'extend_FOV_fixed_ImageJ_Stream': 0.25,\n",
    "    'reco_algorithm': 'gridrec',\n",
    "    'filter_name': 'shepp',\n",
    "    'pixel_size': 0.72,\n",
    "    'ring_radius': 50\n",
    "}\n",
    "\n",
    "# Prompt the user to enter the COR value\n",
    "COR = input(\"Enter the COR value: \")\n",
    "COR = int(COR)\n",
    "reco_setting[\"COR\"] = COR\n",
    "\n",
    "#Instantiate the Reconstruction object\n",
    "recoObject=Reconstruction(FileObject  , gpu=True)\n",
    "\n",
    "#Generate the Slice using the reco_settings \n",
    "slice = recoObject.on_the_fly_one_slice(reco_setting)\n",
    "\n",
    "plt.imshow(slice)\n",
    "\n",
    "#Save the Reconstructed Slice\n",
    "\n",
    "meta = recoObject.prepare_reco_metadata(reco_setting, save_settings)\n",
    "\n",
    "writer = FileWrite(\"M:\\\\VS Recon\")\n",
    "vol = np.zeros(shape=(10,10,10))\n",
    "writer.write_hdf_volume(vol,\"test.h5\")\n",
    "writer.write_hdf_metadata(meta,\"test.h5\")\n"
   ]
  }
 ],
 "metadata": {
  "language_info": {
   "name": "python"
  },
  "orig_nbformat": 4
 },
 "nbformat": 4,
 "nbformat_minor": 2
}
