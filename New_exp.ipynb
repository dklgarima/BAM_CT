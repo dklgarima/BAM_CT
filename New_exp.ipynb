{
 "cells": [
  {
   "cell_type": "code",
   "execution_count": 64,
   "metadata": {},
   "outputs": [],
   "source": [
    "from reconstruct import * \n",
    "from projection_import import * \n",
    "import matplotlib.pyplot as plt\n",
    "import pandas as pd\n",
    "import numpy as np\n",
    "from PIL import Image\n",
    "import imageio\n",
    "from scipy.ndimage import median_filter, uniform_filter\n",
    "import re"
   ]
  },
  {
   "cell_type": "code",
   "execution_count": 66,
   "metadata": {},
   "outputs": [
    {
     "name": "stdout",
     "output_type": "stream",
     "text": [
      "volume opened successfully : data shape:  (1890, 2160, 2560)\n"
     ]
    }
   ],
   "source": [
    "# Specify the path to the HDF5 file\n",
    "file_path = r\"C:\\Users\\gdhakal\\Documents\\Git\\Automatic_COR_finder\\C200\\10_230110_1538_C200_____Z90_Y6460_50000eV_10x_300ms\\10_230110_1538_00001.h5\"\n",
    "\n",
    "# Specify the folder to save and load the TIFF files\n",
    "tiff_folder = r\"C:\\Users\\gdhakal\\Documents\\Git\\Automatic_COR_finder\\Experiment Notebooks\\C200_10\\small_tiff\"\n",
    "\n",
    "# Create an instance of ProjectionFile\n",
    "FileObject = ProjectionFile(file_path)\n",
    "\n",
    "# Open the HDF5 file and retrieve the volume and metadata\n",
    "volume_path = \"/entry/data/data\"\n",
    "metadata_paths = ['/entry/instrument/NDAttributes/CT_MICOS_W']\n",
    "\n",
    "volume, metadata = FileObject.openFile(volume=volume_path, metadata=metadata_paths)"
   ]
  },
  {
   "cell_type": "markdown",
   "metadata": {},
   "source": [
    "### Reconstructing One Slice with Multiple Looped COR"
   ]
  },
  {
   "cell_type": "code",
   "execution_count": 67,
   "metadata": {},
   "outputs": [],
   "source": [
    "#Assigning reco_setting values\n",
    "reco_setting = {\n",
    "    'angle_list_dir': '/entry/instrument/NDAttributes/CT_MICOS_W',\n",
    "    'number_of_FFs': 20,\n",
    "    'slice_number': 1000,\n",
    "    'DarkFieldValue': 200,\n",
    "    'backIlluminationValue': 0,\n",
    "    'offset_Angle': 0,\n",
    "    'angle_range': '180 - axis centered',\n",
    "    'extend_FOV_fixed_ImageJ_Stream': 0.25,\n",
    "    'reco_algorithm': 'gridrec',\n",
    "    'filter_name': 'shepp',\n",
    "    'pixel_size': 0.72,\n",
    "    'ring_radius': 50\n",
    "    }"
   ]
  },
  {
   "cell_type": "code",
   "execution_count": null,
   "metadata": {},
   "outputs": [],
   "source": [
    "# Specify the values\n",
    "n = 10\n",
    "e_values = [ 1, 2, 3, 4]\n",
    "\n",
    "# Specify the first COR value (c)\n",
    "c = 1222\n",
    "\n",
    "cor_values = []\n",
    "# Loop through the values\n",
    "for e in e_values:\n",
    "    for i in range(-n * e, n * e + 1, e):\n",
    "        cor_value = c + i\n",
    "        cor_values.append(cor_value)\n",
    "\n",
    "        # Instantiate the Reconstruction object\n",
    "        recoObject = Reconstruction(FileObject, gpu=True)\n",
    "        # Set the COR value in the reconstruction settings\n",
    "        reco_setting[\"COR\"] = cor_value\n",
    "\n",
    "        # Generate the Slice using the reco_settings\n",
    "        slice = recoObject.on_the_fly_one_slice(reco_setting)\n",
    "\n",
    "        # Specify the intensity range\n",
    "        min_intensity = -20\n",
    "        max_intensity = 100\n",
    "\n",
    "        # Clip the image intensities within the desired range\n",
    "        clipped_image = np.clip(slice, min_intensity, max_intensity)\n",
    "\n",
    "        # Scale the intensities to the range [0, 255]\n",
    "        scaled_image = ((clipped_image - min_intensity) / (max_intensity - min_intensity) * 255).astype(np.uint8)\n",
    "\n",
    "        str_cor_value = str(cor_value).replace ('.' , 'p' )\n",
    "\n",
    "        # Save the reconstructed slice\n",
    "        save_file_name = f\"reconstructed_e{e}_n{n}_cor{str_cor_value}.tif\"\n",
    "        # np.save(save_file_name, slice)\n",
    "\n",
    "        # Save the scaled image as a TIFF file\n",
    "        imageio.imwrite(os.path.join(tiff_folder, save_file_name), scaled_image)\n",
    "\n",
    "        print(\"Reconstructed slice saved successfully as\", save_file_name)    \n"
   ]
  },
  {
   "cell_type": "code",
   "execution_count": 73,
   "metadata": {},
   "outputs": [
    {
     "name": "stdout",
     "output_type": "stream",
     "text": [
      "                                                 path  \\\n",
      "0   C:\\Users\\gdhakal\\Documents\\Git\\Automatic_COR_f...   \n",
      "1   C:\\Users\\gdhakal\\Documents\\Git\\Automatic_COR_f...   \n",
      "2   C:\\Users\\gdhakal\\Documents\\Git\\Automatic_COR_f...   \n",
      "3   C:\\Users\\gdhakal\\Documents\\Git\\Automatic_COR_f...   \n",
      "4   C:\\Users\\gdhakal\\Documents\\Git\\Automatic_COR_f...   \n",
      "..                                                ...   \n",
      "79  C:\\Users\\gdhakal\\Documents\\Git\\Automatic_COR_f...   \n",
      "80  C:\\Users\\gdhakal\\Documents\\Git\\Automatic_COR_f...   \n",
      "81  C:\\Users\\gdhakal\\Documents\\Git\\Automatic_COR_f...   \n",
      "82  C:\\Users\\gdhakal\\Documents\\Git\\Automatic_COR_f...   \n",
      "83  C:\\Users\\gdhakal\\Documents\\Git\\Automatic_COR_f...   \n",
      "\n",
      "                            filename     COR  e   n  \n",
      "0   reconstructed_e1_n10_cor1212.tif  1212.0  1  10  \n",
      "1   reconstructed_e1_n10_cor1213.tif  1213.0  1  10  \n",
      "2   reconstructed_e1_n10_cor1214.tif  1214.0  1  10  \n",
      "3   reconstructed_e1_n10_cor1215.tif  1215.0  1  10  \n",
      "4   reconstructed_e1_n10_cor1216.tif  1216.0  1  10  \n",
      "..                               ...     ... ..  ..  \n",
      "79  reconstructed_e4_n10_cor1246.tif  1246.0  4  10  \n",
      "80  reconstructed_e4_n10_cor1250.tif  1250.0  4  10  \n",
      "81  reconstructed_e4_n10_cor1254.tif  1254.0  4  10  \n",
      "82  reconstructed_e4_n10_cor1258.tif  1258.0  4  10  \n",
      "83  reconstructed_e4_n10_cor1262.tif  1262.0  4  10  \n",
      "\n",
      "[84 rows x 5 columns]\n"
     ]
    }
   ],
   "source": [
    "# Function to read and give COR, e, and n of a file\n",
    "def parse_reconstructed_filename(filename):\n",
    "    # Extract COR, e, and n values from the filename using regular expressions\n",
    "    match = re.search(r\"reconstructed_e(\\d+)_n(\\d+)_cor(\\d+p\\d+)\\.tif|reconstructed_e(\\d+)_n(\\d+)_cor(\\d+)\\.tif\", filename)\n",
    "    \n",
    "    if match:\n",
    "        if match.group(3):\n",
    "            e1 = int(match.group(1))\n",
    "            n1 = int(match.group(2))\n",
    "            cor = float(match.group(3).replace(\"p\", \".\"))\n",
    "        else:\n",
    "            e1 = int(match.group(4))\n",
    "            n1 = int(match.group(5))\n",
    "            cor = float(match.group(6))\n",
    "        \n",
    "        return cor, e1, n1\n",
    "    \n",
    "    return None\n",
    "\n",
    "# Initialize arrays to store COR, e, and n values\n",
    "cor_file = []\n",
    "e_file = []\n",
    "n_file = []\n",
    "path = []\n",
    "fname = []\n",
    "\n",
    "# Iterate over the TIFF files in the directory\n",
    "for filename in os.listdir(tiff_folder):\n",
    "    if filename.endswith(\".tif\"):\n",
    "        # Get the full file path\n",
    "        filepath = os.path.join(tiff_folder, filename)\n",
    "        \n",
    "        # Parse the COR, e, and n values from the filename\n",
    "        result = parse_reconstructed_filename(filename)\n",
    "        \n",
    "        if result:\n",
    "            cor, e1, n1 = result\n",
    "            # Append the values to the respective arrays\n",
    "            cor_file.append(cor)\n",
    "            e_file.append(e1)\n",
    "            n_file.append(n1)\n",
    "            path.append(filepath)\n",
    "            fname.append(filename)\n",
    "\n",
    "# Print the arrays\n",
    "df_new = pd.DataFrame({\"path\": path, \"filename\": fname, \"COR\": cor_file, \"e\": e_file, \"n\": n_file})\n",
    "\n",
    "print(df_new)"
   ]
  },
  {
   "cell_type": "markdown",
   "metadata": {},
   "source": [
    "### Finding Standard Deviation for Smaller Section and Plotting It\n"
   ]
  },
  {
   "cell_type": "code",
   "execution_count": 74,
   "metadata": {},
   "outputs": [],
   "source": [
    "# Function to calculate standard deviation\n",
    "def new_calculate_std(path):\n",
    "    image = Image.open(path)  # Read the image based on the filename\n",
    "    image_array = np.array(image)\n",
    "    std = np.std(image_array)\n",
    "    return std\n",
    "\n",
    "# Apply the function to calculate standard deviation for each file\n",
    "df_new['std_dev'] = df_new['path'].apply(new_calculate_std)\n",
    "\n",
    "# Print the updated DataFrame\n",
    "#print(df_description)"
   ]
  },
  {
   "cell_type": "code",
   "execution_count": 75,
   "metadata": {},
   "outputs": [
    {
     "data": {
      "image/png": "[encoded data removed]",
      "text/plain": [
       "<Figure size 640x480 with 1 Axes>"
      ]
     },
     "metadata": {},
     "output_type": "display_data"
    }
   ],
   "source": [
    "plt.scatter(df_new[\"COR\"],df_new[\"std_dev\"])\n",
    "plt.xlabel('COR Values')\n",
    "plt.ylabel('Standard Deviation')\n",
    "plt.title('COR vs. Standard Deviation')\n",
    "plt.grid(True)\n",
    "plt.show()"
   ]
  },
  {
   "cell_type": "code",
   "execution_count": 76,
   "metadata": {},
   "outputs": [
    {
     "name": "stdout",
     "output_type": "stream",
     "text": [
      "File with Maximum Standard Deviation: reconstructed_e1_n10_cor1224.tif With Deviation: 25.747706339334233\n"
     ]
    }
   ],
   "source": [
    "# Find the file with the maximum standard deviation\n",
    "max_std_dev_row = df_new.loc[df_new[\"std_dev\"].idxmax()]\n",
    "\n",
    "# Access the filename and maximum standard deviation value\n",
    "largest_file = max_std_dev_row[\"filename\"]\n",
    "largest_std_dev = max_std_dev_row[\"std_dev\"]\n",
    "\n",
    "print(\"File with Maximum Standard Deviation:\", largest_file, \"With Deviation:\", largest_std_dev)"
   ]
  },
  {
   "cell_type": "markdown",
   "metadata": {},
   "source": [
    "##### Mean Filter"
   ]
  },
  {
   "cell_type": "code",
   "execution_count": null,
   "metadata": {},
   "outputs": [],
   "source": [
    "# # Function to calculate mean filtered standard deviation\n",
    "# def new_calculate_mean_std(path):\n",
    "#     image = Image.open(path)  # Read the image based on the filename\n",
    "\n",
    "#     # Apply mean filter\n",
    "#     mean_filtered = uniform_filter(image, size=3) \n",
    "\n",
    "#     mean_image_array = np.array(mean_filtered)\n",
    "#     mean_std = np.std(mean_image_array)\n",
    "#     return mean_std\n",
    "\n",
    "# # Apply the function to calculate standard deviation for each file\n",
    "# df_new['mean_std_dev'] = df_new['path'].apply(new_calculate_mean_std)\n",
    "\n",
    "# # Print the updated DataFrame\n",
    "# #print(df_description)"
   ]
  },
  {
   "cell_type": "code",
   "execution_count": null,
   "metadata": {},
   "outputs": [],
   "source": [
    "# plt.scatter(df_new[\"COR\"],df_new[\"mean_std_dev\"])\n",
    "# plt.xlabel('COR Values')\n",
    "# plt.ylabel('Standard Deviation')\n",
    "# plt.title('COR vs. Mean Filtered Standard Deviation')\n",
    "# plt.grid(True)\n",
    "# plt.show()"
   ]
  },
  {
   "cell_type": "code",
   "execution_count": null,
   "metadata": {},
   "outputs": [],
   "source": [
    "# # Find the file with the maximum standard deviation\n",
    "# max_std_dev_mean = df_new.loc[df_new[\"mean_std_dev\"].idxmax()]\n",
    "\n",
    "# # Access the filename and maximum standard deviation value\n",
    "# m_largest_file = max_std_dev_mean[\"filename\"]\n",
    "# m_largest_std_dev = max_std_dev_mean[\"mean_std_dev\"]\n",
    "\n",
    "# print(\"File with Maximum Standard Deviation (Mean Filter):\", m_largest_file, \"With Deviation:\", m_largest_std_dev)"
   ]
  },
  {
   "cell_type": "markdown",
   "metadata": {},
   "source": [
    "##### Median Filter"
   ]
  },
  {
   "cell_type": "code",
   "execution_count": null,
   "metadata": {},
   "outputs": [],
   "source": [
    "# # Function to calculate standard deviation\n",
    "# def calculate_median_std(path):\n",
    "#     image = Image.open(path)  # Read the image based on the filename\n",
    "\n",
    "#     # Apply median filter\n",
    "#     median_filtered = median_filter(image, size=3)\n",
    "\n",
    "#     image_array = np.array(median_filtered)\n",
    "#     median_std = np.std(image_array)\n",
    "#     return median_std\n",
    "\n",
    "# # Apply the function to calculate standard deviation for each file\n",
    "# df_new['median_std_dev'] = df_new['path'].apply(calculate_median_std)\n",
    "\n",
    "# # Print the updated DataFrame\n",
    "# #print(df_description)"
   ]
  },
  {
   "cell_type": "code",
   "execution_count": null,
   "metadata": {},
   "outputs": [],
   "source": [
    "# plt.scatter(df_new[\"COR\"],df_new[\"median_std_dev\"])\n",
    "# plt.xlabel('COR Values')\n",
    "# plt.ylabel('Standard Deviation')\n",
    "# plt.title('COR vs. Median Filtered Standard Deviation')\n",
    "# plt.grid(True)\n",
    "# plt.show()"
   ]
  },
  {
   "cell_type": "code",
   "execution_count": null,
   "metadata": {},
   "outputs": [],
   "source": [
    "# # Find the file with the maximum standard deviation\n",
    "# max_std_dev_median = df_new.loc[df_new[\"median_std_dev\"].idxmax()]\n",
    "\n",
    "# # Access the filename and maximum standard deviation value\n",
    "# me_largest_file = max_std_dev_median[\"filename\"]\n",
    "# me_largest_std_dev = max_std_dev_median[\"median_std_dev\"]\n",
    "\n",
    "# print(\"File with Maximum Standard Deviation (Median Filter):\", me_largest_file, \"With Deviation:\", me_largest_std_dev)"
   ]
  }
 ],
 "metadata": {
  "kernelspec": {
   "display_name": "CT4D",
   "language": "python",
   "name": "python3"
  },
  "language_info": {
   "codemirror_mode": {
    "name": "ipython",
    "version": 3
   },
   "file_extension": ".py",
   "mimetype": "text/x-python",
   "name": "python",
   "nbconvert_exporter": "python",
   "pygments_lexer": "ipython3",
   "version": "3.9.15"
  },
  "orig_nbformat": 4
 },
 "nbformat": 4,
 "nbformat_minor": 2
}
